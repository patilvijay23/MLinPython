{
 "cells": [
  {
   "cell_type": "markdown",
   "id": "c97acc1d",
   "metadata": {},
   "source": [
    "# Clustering in PySpark using k-means"
   ]
  },
  {
   "cell_type": "markdown",
   "id": "88ddacd5",
   "metadata": {},
   "source": [
    "Following notebook showcases the flow of a clustering exercise using customer sales data.\n",
    "\n",
    "<b>The goal of this exercise is to group customers into *n* distinct clusters basis their sales activity and demographics data.</b>\n",
    "\n",
    "It covers following steps:\n",
    "- Conversion of input sales data to a feature dataset that can be used for clustering\n",
    "- Performing clustering\n",
    "- Profiling the clusters, and\n",
    "- Setting up a regular scoring process to assign cluster labels basis new sales data.\n",
    "\n",
    "***\n",
    "\n",
    "<b>Spark 3.1.2</b> (with Python 3.8) has been used for this notebook.<br>\n",
    "Refer to [spark documentation](https://spark.apache.org/docs/3.1.2/api/sql/index.html) for help with <b>data ops functions</b>.<br>\n",
    "Refer to [this article](https://medium.com/analytics-vidhya/installing-and-using-pyspark-on-windows-machine-59c2d64af76e) to <b>install and use PySpark on Windows machine</b>.\n",
    "\n",
    "***\n",
    "\n",
    "<mark><b>Note</b></mark>: We are dealing with a sample dataset in this exercise and hence I have freely used `.show()`, `.count()`, `.collect()` actions on the dataframes. Please be careful with such steps on actual datasets."
   ]
  },
  {
   "cell_type": "markdown",
   "id": "a3f5ea80",
   "metadata": {},
   "source": [
    "# 1. Feature dataset creation\n",
    "We will explore the input transactional datasets and convert them to a customer level features dataset that can be used for the clustering exercise.\n",
    "\n",
    "<mark>Note</mark>: It's likely that the input transactional and other data that you want to use resides in a SQL database.<br> You can either connect your python code to the SQL database using relevant drivers/code and do the feature set creation in python/spark, or preferably,<br> create the feature dataset in SQL and directly import it for clustering in python/spark."
   ]
  },
  {
   "cell_type": "code",
   "execution_count": 1,
   "id": "2d9afc6a",
   "metadata": {
    "ExecuteTime": {
     "end_time": "2021-03-30T12:51:35.259617Z",
     "start_time": "2021-03-30T12:51:35.246608Z"
    }
   },
   "outputs": [],
   "source": [
    "#importing python packages\n",
    "import pandas as pd\n",
    "import numpy as np\n",
    "\n",
    "import matplotlib.pyplot as plt\n",
    "%matplotlib inline\n",
    "import seaborn as sns"
   ]
  },
  {
   "cell_type": "code",
   "execution_count": 2,
   "id": "9d68edb2",
   "metadata": {},
   "outputs": [],
   "source": [
    "pd.set_option(\"display.float_format\", '{:,.2f}'.format)"
   ]
  },
  {
   "cell_type": "code",
   "execution_count": 3,
   "id": "a364428e",
   "metadata": {
    "ExecuteTime": {
     "end_time": "2021-03-30T12:51:35.259617Z",
     "start_time": "2021-03-30T12:51:35.246608Z"
    }
   },
   "outputs": [],
   "source": [
    "# spark libs\n",
    "from pyspark.sql import SparkSession\n",
    "from pyspark.sql import functions as F"
   ]
  },
  {
   "cell_type": "code",
   "execution_count": 4,
   "id": "d1661e8d",
   "metadata": {},
   "outputs": [],
   "source": [
    "from helper_fn import group_by_and_rename"
   ]
  },
  {
   "cell_type": "markdown",
   "id": "d6f195ff",
   "metadata": {},
   "source": [
    "<b>Once you have initiated spark session using below command, you can go to [localhost:4040](http://localhost:4040) for the Spark UI to monitor your session.</b>"
   ]
  },
  {
   "cell_type": "code",
   "execution_count": 5,
   "id": "1580702e",
   "metadata": {},
   "outputs": [],
   "source": [
    "#initiating spark session\n",
    "# spark = SparkSession.builder.appName('cluster').getOrCreate()\n",
    "sc.stop()\n",
    "\n",
    "spark = SparkSession \\\n",
    "    .builder \\\n",
    "    .appName(\"cluster\") \\\n",
    "    .config(\"spark.executor.memory\", \"4g\") \\\n",
    "    .config(\"spark.driver.memory\", \"2g\") \\\n",
    "    .getOrCreate()"
   ]
  },
  {
   "cell_type": "code",
   "execution_count": 6,
   "id": "c7816ca1",
   "metadata": {
    "ExecuteTime": {
     "end_time": "2021-03-30T12:37:58.182498Z",
     "start_time": "2021-03-30T12:37:58.166539Z"
    }
   },
   "outputs": [],
   "source": [
    "def show_null_count(df):\n",
    "    df_null = df.select([F.count(F.when(F.isnan(c) | F.isnull(c), c)).alias(c) for c in df.columns]).toPandas().T\n",
    "    df_null = df_null.sort_values(by=0,ascending=False)\n",
    "    return df_null"
   ]
  },
  {
   "cell_type": "markdown",
   "id": "fe7db5e7",
   "metadata": {},
   "source": [
    "## Input data"
   ]
  },
  {
   "cell_type": "markdown",
   "id": "412492fd",
   "metadata": {},
   "source": [
    "<b>Read all input datasets</b>"
   ]
  },
  {
   "cell_type": "code",
   "execution_count": 7,
   "id": "674990f0",
   "metadata": {
    "ExecuteTime": {
     "end_time": "2021-03-30T12:39:01.032287Z",
     "start_time": "2021-03-30T12:38:19.459875Z"
    }
   },
   "outputs": [],
   "source": [
    "df_sales = spark.read.csv('./data/clustering_sales.csv',inferSchema=True,header=True)\n",
    "df_customer = spark.read.csv('./data/clustering_customer.csv',inferSchema=True,header=True)\n",
    "df_product = spark.read.csv('./data/clustering_product.csv',inferSchema=True,header=True)\n",
    "df_payment = spark.read.csv('./data/clustering_payment.csv',inferSchema=True,header=True)"
   ]
  },
  {
   "cell_type": "markdown",
   "id": "8742971e",
   "metadata": {},
   "source": [
    "<b>Quick exploration of the datasets:</b>\n",
    "1. We have sales data that captures date, customer id, product, quantity, dollar amount & payment type at order x item level. `order_item_id` refers to each unique product in each order\n",
    "2. We have corresponding dimension tables for customer info, product info, and payment tender info"
   ]
  },
  {
   "cell_type": "code",
   "execution_count": 8,
   "id": "f03bee28",
   "metadata": {},
   "outputs": [
    {
     "name": "stdout",
     "output_type": "stream",
     "text": [
      "+--------+-------------+----------+-----------+-------+---+----------+---------------+\n",
      "|order_id|order_item_id|   tran_dt|customer_id|dollars|qty|product_id|payment_type_id|\n",
      "+--------+-------------+----------+-----------+-------+---+----------+---------------+\n",
      "|       1|            1|2020-01-01|        572|    550|  1|        20|              2|\n",
      "|       2|            2|2020-01-01|        532|    630|  3|        11|              2|\n",
      "|       3|            3|2020-01-01|        608|    450|  2|        18|              4|\n",
      "|       4|            4|2020-01-01|        424|    110|  2|        10|              2|\n",
      "|       5|            5|2020-01-01|        584|    250|  1|         8|              4|\n",
      "+--------+-------------+----------+-----------+-------+---+----------+---------------+\n",
      "only showing top 5 rows\n",
      "\n"
     ]
    }
   ],
   "source": [
    "df_sales.show(5)"
   ]
  },
  {
   "cell_type": "code",
   "execution_count": 9,
   "id": "616f044f",
   "metadata": {},
   "outputs": [
    {
     "data": {
      "text/plain": [
       "(10000, 10000, 9811)"
      ]
     },
     "execution_count": 9,
     "metadata": {},
     "output_type": "execute_result"
    }
   ],
   "source": [
    "# order_item_id is the primary key\n",
    "(df_sales.count(),\n",
    " df_sales.selectExpr('count(Distinct order_item_id)').collect()[0][0],\n",
    " df_sales.selectExpr('count(Distinct order_id)').collect()[0][0])"
   ]
  },
  {
   "cell_type": "code",
   "execution_count": 10,
   "id": "c9880cb4",
   "metadata": {},
   "outputs": [
    {
     "name": "stdout",
     "output_type": "stream",
     "text": [
      "root\n",
      " |-- order_id: integer (nullable = true)\n",
      " |-- order_item_id: integer (nullable = true)\n",
      " |-- tran_dt: string (nullable = true)\n",
      " |-- customer_id: integer (nullable = true)\n",
      " |-- dollars: integer (nullable = true)\n",
      " |-- qty: integer (nullable = true)\n",
      " |-- product_id: integer (nullable = true)\n",
      " |-- payment_type_id: integer (nullable = true)\n",
      "\n"
     ]
    }
   ],
   "source": [
    "df_sales.printSchema()"
   ]
  },
  {
   "cell_type": "code",
   "execution_count": 11,
   "id": "f135ef31",
   "metadata": {},
   "outputs": [
    {
     "name": "stdout",
     "output_type": "stream",
     "text": [
      "+-----------+---+---------+------------+----------------+\n",
      "|customer_id|age|hh_income|omni_shopper|email_subscribed|\n",
      "+-----------+---+---------+------------+----------------+\n",
      "|          1| 46|   640000|           0|               0|\n",
      "|          2| 32|   890000|           1|               1|\n",
      "|          3| 45|   772000|           0|               0|\n",
      "|          4| 46|   303000|           0|               1|\n",
      "|          5| 38|   412000|           0|               0|\n",
      "+-----------+---+---------+------------+----------------+\n",
      "only showing top 5 rows\n",
      "\n"
     ]
    }
   ],
   "source": [
    "df_customer.show(5)"
   ]
  },
  {
   "cell_type": "code",
   "execution_count": 12,
   "id": "44e9ce50",
   "metadata": {},
   "outputs": [
    {
     "data": {
      "text/plain": [
       "(1000, 1000, 1000)"
      ]
     },
     "execution_count": 12,
     "metadata": {},
     "output_type": "execute_result"
    }
   ],
   "source": [
    "# we have 1k unique customers in sales data with all their info in customer dimension table\n",
    "(df_sales.selectExpr('count(Distinct customer_id)').collect()[0][0],\n",
    " df_customer.count(),\n",
    " df_customer.selectExpr('count(Distinct customer_id)').collect()[0][0])"
   ]
  },
  {
   "cell_type": "code",
   "execution_count": 13,
   "id": "caf3f9a2",
   "metadata": {},
   "outputs": [
    {
     "name": "stdout",
     "output_type": "stream",
     "text": [
      "+----------+--------+-----+\n",
      "|product_id|category|price|\n",
      "+----------+--------+-----+\n",
      "|         1|       A|  450|\n",
      "|         2|       B|   80|\n",
      "|         3|       C|  250|\n",
      "|         4|       D|  400|\n",
      "|         5|       E|   50|\n",
      "+----------+--------+-----+\n",
      "only showing top 5 rows\n",
      "\n"
     ]
    }
   ],
   "source": [
    "# product dimension table provides category and price for each product\n",
    "df_product.show(5)"
   ]
  },
  {
   "cell_type": "code",
   "execution_count": 14,
   "id": "07cf2b82",
   "metadata": {},
   "outputs": [
    {
     "data": {
      "text/plain": [
       "(22, 22)"
      ]
     },
     "execution_count": 14,
     "metadata": {},
     "output_type": "execute_result"
    }
   ],
   "source": [
    "(df_product.count(),\n",
    " df_product.selectExpr('count(Distinct product_id)').collect()[0][0])"
   ]
  },
  {
   "cell_type": "code",
   "execution_count": 15,
   "id": "1348d6cf",
   "metadata": {},
   "outputs": [
    {
     "name": "stdout",
     "output_type": "stream",
     "text": [
      "+---------------+------------+\n",
      "|payment_type_id|payment_type|\n",
      "+---------------+------------+\n",
      "|              1|        cash|\n",
      "|              2| credit card|\n",
      "|              3|  debit card|\n",
      "|              4|   gift card|\n",
      "|              5|      others|\n",
      "+---------------+------------+\n",
      "\n"
     ]
    }
   ],
   "source": [
    "# payment type table maps the payment type id from sales table\n",
    "df_payment.show(5)"
   ]
  },
  {
   "cell_type": "markdown",
   "id": "d88115bc",
   "metadata": {},
   "source": [
    "## Features dataset\n",
    "The goal of this exercise is to group customers into *n* distinct clusters basis their sales activity and demographics data.\n",
    "\n",
    "In order to cluster customers, we will require a dataset that summarizes their activity over time into a customer id level dataset, i.e. <b>we need to depict each customer using 1 row for data that covers everything we know about the customer</b>.\n",
    "\n",
    "The required output table should have 1 row per customer with relevant information as feature columns. There are many possible features that you can create here, some as simple as *sales $ for 1 year*, and some complicated or derived such as *quarterly change in sales of a customer for a particular product category*.\n",
    "\n",
    "This step of the process will involve conversations with the business stakeholders to determine what features matter to the business."
   ]
  },
  {
   "cell_type": "markdown",
   "id": "5b552760",
   "metadata": {},
   "source": [
    "<b>Features we will be creating for current exercise are listed below</b>\n",
    "\n",
    "Data we have is for the calendar year 2020 and we will take the whole time frame.<br>\n",
    "<mark>In your case, you might have to add relevant filters and join the sales dataset with some other datasets to get the required data that can then be aggregated to get below features.</mark>"
   ]
  },
  {
   "cell_type": "markdown",
   "id": "7a8faef5",
   "metadata": {},
   "source": [
    "Overall level:\n",
    "1. Sales\n",
    "2. Quantity\n",
    "3. No. of orders\n",
    "4. Avg. order value\n",
    "5. Units per transaction\n",
    "6. Avg. unit revenue\n",
    "7. No. of different products bought\n",
    "8. No. of different product categories bought\n",
    "9. No. of different payment types used"
   ]
  },
  {
   "cell_type": "markdown",
   "id": "898bccbb",
   "metadata": {},
   "source": [
    "Category level:\n",
    "1. Split of category level sales as % of total sales\n",
    "2. Split of category level units as % of total units"
   ]
  },
  {
   "cell_type": "markdown",
   "id": "94896015",
   "metadata": {},
   "source": [
    "Tender type level:\n",
    "1. Split of tender type level sales as % of total sales"
   ]
  },
  {
   "cell_type": "markdown",
   "id": "bfae9504",
   "metadata": {},
   "source": [
    "Customer information:\n",
    "1. Omni shopper flag\n",
    "2. Email subscription flag\n",
    "Other demographics data will be kept only for profiling."
   ]
  },
  {
   "cell_type": "markdown",
   "id": "cb36a969",
   "metadata": {},
   "source": [
    "### Overall level features"
   ]
  },
  {
   "cell_type": "code",
   "execution_count": 16,
   "id": "7715951b",
   "metadata": {},
   "outputs": [],
   "source": [
    "df_sales = df_sales.join(df_product.select('product_id','category'), on=['product_id'], how='left')\n",
    "df_sales = df_sales.join(df_payment, on=['payment_type_id'], how='left')"
   ]
  },
  {
   "cell_type": "code",
   "execution_count": 17,
   "id": "6510f5a2",
   "metadata": {},
   "outputs": [
    {
     "name": "stdout",
     "output_type": "stream",
     "text": [
      "+---------------+----------+--------+-------------+----------+-----------+-------+---+--------+------------+\n",
      "|payment_type_id|product_id|order_id|order_item_id|   tran_dt|customer_id|dollars|qty|category|payment_type|\n",
      "+---------------+----------+--------+-------------+----------+-----------+-------+---+--------+------------+\n",
      "|              2|        20|       1|            1|2020-01-01|        572|    550|  1|       D| credit card|\n",
      "|              2|        11|       2|            2|2020-01-01|        532|    630|  3|       A| credit card|\n",
      "|              4|        18|       3|            3|2020-01-01|        608|    450|  2|       C|   gift card|\n",
      "|              2|        10|       4|            4|2020-01-01|        424|    110|  2|       E| credit card|\n",
      "|              4|         8|       5|            5|2020-01-01|        584|    250|  1|       C|   gift card|\n",
      "+---------------+----------+--------+-------------+----------+-----------+-------+---+--------+------------+\n",
      "only showing top 5 rows\n",
      "\n"
     ]
    }
   ],
   "source": [
    "df_sales.show(5)"
   ]
  },
  {
   "cell_type": "code",
   "execution_count": 18,
   "id": "1fc6eb3c",
   "metadata": {},
   "outputs": [],
   "source": [
    "# aggregate\n",
    "df_features_overall = df_sales.groupby(['customer_id']).agg(\n",
    "    F.sum('dollars').alias('sales'),\n",
    "    F.sum('qty').alias('qty'),\n",
    "    F.countDistinct('order_id').alias('orders'),\n",
    "    F.countDistinct('product_id').alias('unique_products_bought'),\n",
    "    F.countDistinct('payment_type_id').alias('unique_payments_used'),\n",
    "    F.countDistinct('category').alias('unique_categories_bought'))"
   ]
  },
  {
   "cell_type": "code",
   "execution_count": 19,
   "id": "7defbab9",
   "metadata": {},
   "outputs": [],
   "source": [
    "# derived vars\n",
    "df_features_overall = df_features_overall.withColumn('aov',F.col('sales')/F.col('orders'))\n",
    "df_features_overall = df_features_overall.withColumn('aur',F.col('sales')/F.col('qty'))\n",
    "df_features_overall = df_features_overall.withColumn('upt',F.col('qty')/F.col('orders'))"
   ]
  },
  {
   "cell_type": "code",
   "execution_count": 20,
   "id": "4e9fb999",
   "metadata": {},
   "outputs": [
    {
     "name": "stdout",
     "output_type": "stream",
     "text": [
      "+-----------+-----+---+------+----------------------+--------------------+------------------------+------------------+------------------+------------------+\n",
      "|customer_id|sales|qty|orders|unique_products_bought|unique_payments_used|unique_categories_bought|               aov|               aur|               upt|\n",
      "+-----------+-----+---+------+----------------------+--------------------+------------------------+------------------+------------------+------------------+\n",
      "|        496|10235| 46|    21|                    15|                   4|                       5| 487.3809523809524|             222.5|2.1904761904761907|\n",
      "|        833| 6005| 17|     7|                     7|                   3|                       4| 857.8571428571429| 353.2352941176471|2.4285714285714284|\n",
      "|        148|13535| 50|    21|                    14|                   5|                       5| 644.5238095238095|             270.7| 2.380952380952381|\n",
      "|        463| 8685| 41|    23|                    17|                   4|                       5|377.60869565217394|211.82926829268294|1.7826086956521738|\n",
      "|        471| 1135|  5|     3|                     3|                   3|                       2| 378.3333333333333|             227.0|1.6666666666666667|\n",
      "+-----------+-----+---+------+----------------------+--------------------+------------------------+------------------+------------------+------------------+\n",
      "only showing top 5 rows\n",
      "\n"
     ]
    }
   ],
   "source": [
    "df_features_overall.show(5)"
   ]
  },
  {
   "cell_type": "markdown",
   "id": "0adda8f4",
   "metadata": {},
   "source": [
    "### Category level features\n",
    "<b>Sales & Units</b>"
   ]
  },
  {
   "cell_type": "code",
   "execution_count": 21,
   "id": "0a2b93a5",
   "metadata": {},
   "outputs": [],
   "source": [
    "df_category_features = df_sales.groupby('customer_id','category').agg(\n",
    "    F.sum('dollars').alias('dollars'),\n",
    "    F.sum('qty').alias('units'))"
   ]
  },
  {
   "cell_type": "code",
   "execution_count": 22,
   "id": "111ffb05",
   "metadata": {},
   "outputs": [],
   "source": [
    "# add overall sales\n",
    "df_category_features = df_category_features.join(\n",
    "    df_features_overall.select('customer_id','sales','qty'),\n",
    "    on=['customer_id'],\n",
    "    how='left')"
   ]
  },
  {
   "cell_type": "code",
   "execution_count": 23,
   "id": "f6c83849",
   "metadata": {},
   "outputs": [],
   "source": [
    "# convert to %\n",
    "df_category_features = df_category_features.withColumn(\n",
    "    'sales_perc',\n",
    "    F.col('dollars')/F.col('sales'))\n",
    "df_category_features = df_category_features.withColumn(\n",
    "    'units_perc',\n",
    "    F.col('units')/F.col('qty'))"
   ]
  },
  {
   "cell_type": "code",
   "execution_count": 24,
   "id": "b72792bd",
   "metadata": {},
   "outputs": [
    {
     "name": "stdout",
     "output_type": "stream",
     "text": [
      "+-----------+--------+-------+-----+-----+---+-------------------+----------+\n",
      "|customer_id|category|dollars|units|sales|qty|         sales_perc|units_perc|\n",
      "+-----------+--------+-------+-----+-----+---+-------------------+----------+\n",
      "|        148|       A|   8660|   21|13535| 50| 0.6398226819357222|      0.42|\n",
      "|        148|       E|    260|    5|13535| 50|0.01920945696342815|       0.1|\n",
      "|        148|       C|   1450|    6|13535| 50|0.10712966383450313|      0.12|\n",
      "|        148|       B|   1815|   15|13535| 50|0.13409678611008496|       0.3|\n",
      "|        148|       D|   1350|    3|13535| 50|0.09974141115626155|      0.06|\n",
      "+-----------+--------+-------+-----+-----+---+-------------------+----------+\n",
      "only showing top 5 rows\n",
      "\n"
     ]
    }
   ],
   "source": [
    "df_category_features.show(5)"
   ]
  },
  {
   "cell_type": "code",
   "execution_count": 25,
   "id": "87fbc7bc",
   "metadata": {},
   "outputs": [],
   "source": [
    "# pivot\n",
    "df_category_features = df_category_features.groupby('customer_id').pivot('category').agg(\n",
    "    F.max('sales_perc').alias('cat_sales'),\n",
    "    F.max('units_perc').alias('cat_units'))"
   ]
  },
  {
   "cell_type": "markdown",
   "id": "ded55c94",
   "metadata": {},
   "source": [
    "### Tender type level"
   ]
  },
  {
   "cell_type": "code",
   "execution_count": 26,
   "id": "962493eb",
   "metadata": {},
   "outputs": [],
   "source": [
    "df_payment_features = df_sales.groupby('customer_id','payment_type').agg(F.sum('dollars').alias('dollars'))"
   ]
  },
  {
   "cell_type": "code",
   "execution_count": 27,
   "id": "b811ff36",
   "metadata": {},
   "outputs": [],
   "source": [
    "# add overall sales\n",
    "df_payment_features = df_payment_features.join(\n",
    "    df_features_overall.select('customer_id','sales'),\n",
    "    on=['customer_id'],\n",
    "    how='left')"
   ]
  },
  {
   "cell_type": "code",
   "execution_count": 28,
   "id": "9cd2cf32",
   "metadata": {},
   "outputs": [],
   "source": [
    "# convert to %\n",
    "df_payment_features = df_payment_features.withColumn(\n",
    "    'sales_perc',\n",
    "    F.col('dollars')/F.col('sales'))"
   ]
  },
  {
   "cell_type": "code",
   "execution_count": 29,
   "id": "62aa3663",
   "metadata": {},
   "outputs": [
    {
     "name": "stdout",
     "output_type": "stream",
     "text": [
      "+-----------+------------+-------+-----+--------------------+\n",
      "|customer_id|payment_type|dollars|sales|          sales_perc|\n",
      "+-----------+------------+-------+-----+--------------------+\n",
      "|        148|   gift card|   1350|13535| 0.09974141115626155|\n",
      "|        148| credit card|   7595|13535|  0.5611377909124492|\n",
      "|        148|        cash|    150|13535|0.011082379017362394|\n",
      "|        148|  debit card|   3090|13535| 0.22829700775766532|\n",
      "|        148|      others|   1350|13535| 0.09974141115626155|\n",
      "+-----------+------------+-------+-----+--------------------+\n",
      "only showing top 5 rows\n",
      "\n"
     ]
    }
   ],
   "source": [
    "df_payment_features.show(5)"
   ]
  },
  {
   "cell_type": "code",
   "execution_count": 30,
   "id": "bf2b7d17",
   "metadata": {},
   "outputs": [],
   "source": [
    "# clean-up values in payment type column\n",
    "df_payment_features = df_payment_features.withColumn(\n",
    "    'payment_type',\n",
    "    F.concat(F.lit('pay_'), F.regexp_replace(F.col('payment_type'),' ','_')))"
   ]
  },
  {
   "cell_type": "code",
   "execution_count": 31,
   "id": "7193175a",
   "metadata": {},
   "outputs": [],
   "source": [
    "# pivot\n",
    "df_payment_features = df_payment_features.groupby('customer_id').pivot('payment_type').agg(\n",
    "    F.max('sales_perc'))"
   ]
  },
  {
   "cell_type": "code",
   "execution_count": 32,
   "id": "29442976",
   "metadata": {},
   "outputs": [
    {
     "name": "stdout",
     "output_type": "stream",
     "text": [
      "+-----------+--------------------+-------------------+-------------------+--------------------+-------------------+\n",
      "|customer_id|            pay_cash|    pay_credit_card|     pay_debit_card|       pay_gift_card|         pay_others|\n",
      "+-----------+--------------------+-------------------+-------------------+--------------------+-------------------+\n",
      "|        148|0.011082379017362394| 0.5611377909124492|0.22829700775766532| 0.09974141115626155|0.09974141115626155|\n",
      "|        463| 0.05181347150259067| 0.5808865860679332| 0.2515831894070236|  0.1157167530224525|               null|\n",
      "|        471|                null|0.22026431718061673| 0.7268722466960352|                null|0.05286343612334802|\n",
      "|        496|                null| 0.7054225696140694|0.15828041035661944|   0.063019052271617|0.07327796775769418|\n",
      "|        833|                null| 0.3871773522064946| 0.5995004163197336|0.013322231473771857|               null|\n",
      "+-----------+--------------------+-------------------+-------------------+--------------------+-------------------+\n",
      "only showing top 5 rows\n",
      "\n"
     ]
    }
   ],
   "source": [
    "df_payment_features.show(5)"
   ]
  },
  {
   "cell_type": "markdown",
   "id": "8f48584b",
   "metadata": {},
   "source": [
    "### Final Features dataset"
   ]
  },
  {
   "cell_type": "code",
   "execution_count": 33,
   "id": "a2ee6edc",
   "metadata": {},
   "outputs": [],
   "source": [
    "df_features = df_features_overall.join(df_category_features,on=['customer_id'],how='left')\n",
    "\n",
    "df_features = df_features.join(df_payment_features,on=['customer_id'],how='left')\n",
    "\n",
    "df_features = df_features.join(\n",
    "    df_customer.select('customer_id','email_subscribed','omni_shopper'),\n",
    "    on=['customer_id'],\n",
    "    how='left')"
   ]
  },
  {
   "cell_type": "code",
   "execution_count": 34,
   "id": "f2c98711",
   "metadata": {},
   "outputs": [
    {
     "data": {
      "text/plain": [
       "1000"
      ]
     },
     "execution_count": 34,
     "metadata": {},
     "output_type": "execute_result"
    }
   ],
   "source": [
    "# persist this df to break lineage\n",
    "# our data is small and hence reducing partitions to 10; for actual data, be careful with this step\n",
    "df_features = df_features.repartition(10).persist()\n",
    "df_features.count()"
   ]
  },
  {
   "cell_type": "code",
   "execution_count": 35,
   "id": "9278138c",
   "metadata": {},
   "outputs": [
    {
     "name": "stdout",
     "output_type": "stream",
     "text": [
      "root\n",
      " |-- customer_id: integer (nullable = true)\n",
      " |-- sales: long (nullable = true)\n",
      " |-- qty: long (nullable = true)\n",
      " |-- orders: long (nullable = false)\n",
      " |-- unique_products_bought: long (nullable = false)\n",
      " |-- unique_payments_used: long (nullable = false)\n",
      " |-- unique_categories_bought: long (nullable = false)\n",
      " |-- aov: double (nullable = true)\n",
      " |-- aur: double (nullable = true)\n",
      " |-- upt: double (nullable = true)\n",
      " |-- A_cat_sales: double (nullable = true)\n",
      " |-- A_cat_units: double (nullable = true)\n",
      " |-- B_cat_sales: double (nullable = true)\n",
      " |-- B_cat_units: double (nullable = true)\n",
      " |-- C_cat_sales: double (nullable = true)\n",
      " |-- C_cat_units: double (nullable = true)\n",
      " |-- D_cat_sales: double (nullable = true)\n",
      " |-- D_cat_units: double (nullable = true)\n",
      " |-- E_cat_sales: double (nullable = true)\n",
      " |-- E_cat_units: double (nullable = true)\n",
      " |-- pay_cash: double (nullable = true)\n",
      " |-- pay_credit_card: double (nullable = true)\n",
      " |-- pay_debit_card: double (nullable = true)\n",
      " |-- pay_gift_card: double (nullable = true)\n",
      " |-- pay_others: double (nullable = true)\n",
      " |-- email_subscribed: integer (nullable = true)\n",
      " |-- omni_shopper: integer (nullable = true)\n",
      "\n"
     ]
    }
   ],
   "source": [
    "df_features.printSchema()"
   ]
  },
  {
   "cell_type": "code",
   "execution_count": 36,
   "id": "f6562aa8",
   "metadata": {},
   "outputs": [],
   "source": [
    "df_features.write.parquet('./data/clustering_features/', mode='overwrite')"
   ]
  },
  {
   "cell_type": "markdown",
   "id": "f34ed563",
   "metadata": {},
   "source": [
    "# 2. k-means clustering"
   ]
  },
  {
   "cell_type": "code",
   "execution_count": 37,
   "id": "5ec5a620",
   "metadata": {},
   "outputs": [],
   "source": [
    "df_features = spark.read.parquet('./data/clustering_features/')"
   ]
  },
  {
   "cell_type": "markdown",
   "id": "b9707a85",
   "metadata": {},
   "source": [
    "## Summary of features\n",
    "\n",
    "- There are nulls in category and payment % split features: fill with 0"
   ]
  },
  {
   "cell_type": "code",
   "execution_count": 38,
   "id": "bab6a1d9",
   "metadata": {},
   "outputs": [
    {
     "name": "stdout",
     "output_type": "stream",
     "text": [
      "+-------+-----------------+-----------------+-----------------+------------------+------------------+-------------------+\n",
      "|summary|            sales|              qty|           orders|               aov|               aur|                upt|\n",
      "+-------+-----------------+-----------------+-----------------+------------------+------------------+-------------------+\n",
      "|  count|             1000|             1000|             1000|              1000|              1000|               1000|\n",
      "|   mean|          5707.17|           21.108|            9.811|  575.336384169622| 271.1505304804412| 2.1246893920819834|\n",
      "| stddev|4036.079859434367|14.40839817391017|6.384986064749635|165.74126736003032|  65.9414953443109|0.34400733385649096|\n",
      "|    min|              330|                3|                3|             110.0|              60.0|                1.0|\n",
      "|    25%|             2805|               11|                5|             467.5|             227.5|                1.9|\n",
      "|    50%|             4280|               16|                8|             568.0|267.89473684210526| 2.1363636363636362|\n",
      "|    75%|             7260|               23|               10| 669.7619047619048|  311.219512195122| 2.3333333333333335|\n",
      "|    max|            17635|               58|               24|            1202.5|             485.0| 3.6666666666666665|\n",
      "+-------+-----------------+-----------------+-----------------+------------------+------------------+-------------------+\n",
      "\n"
     ]
    }
   ],
   "source": [
    "# taking summary only for few columns. For all columns, it would be preferable to save the summary output to file\n",
    "# instead of printing the output\n",
    "df_features.select('sales','qty','orders','aov','aur','upt').summary().show()"
   ]
  },
  {
   "cell_type": "code",
   "execution_count": 39,
   "id": "dc162573",
   "metadata": {
    "scrolled": true
   },
   "outputs": [
    {
     "data": {
      "text/html": [
       "<div>\n",
       "<style scoped>\n",
       "    .dataframe tbody tr th:only-of-type {\n",
       "        vertical-align: middle;\n",
       "    }\n",
       "\n",
       "    .dataframe tbody tr th {\n",
       "        vertical-align: top;\n",
       "    }\n",
       "\n",
       "    .dataframe thead th {\n",
       "        text-align: right;\n",
       "    }\n",
       "</style>\n",
       "<table border=\"1\" class=\"dataframe\">\n",
       "  <thead>\n",
       "    <tr style=\"text-align: right;\">\n",
       "      <th>summary</th>\n",
       "      <th>count</th>\n",
       "      <th>mean</th>\n",
       "      <th>stddev</th>\n",
       "      <th>min</th>\n",
       "      <th>25%</th>\n",
       "      <th>50%</th>\n",
       "      <th>75%</th>\n",
       "      <th>max</th>\n",
       "    </tr>\n",
       "  </thead>\n",
       "  <tbody>\n",
       "    <tr>\n",
       "      <th>customer_id</th>\n",
       "      <td>1,000.00</td>\n",
       "      <td>500.50</td>\n",
       "      <td>288.82</td>\n",
       "      <td>1.00</td>\n",
       "      <td>250.00</td>\n",
       "      <td>500.00</td>\n",
       "      <td>750.00</td>\n",
       "      <td>1,000.00</td>\n",
       "    </tr>\n",
       "    <tr>\n",
       "      <th>sales</th>\n",
       "      <td>1,000.00</td>\n",
       "      <td>5,707.17</td>\n",
       "      <td>4,036.08</td>\n",
       "      <td>330.00</td>\n",
       "      <td>2,805.00</td>\n",
       "      <td>4,280.00</td>\n",
       "      <td>7,260.00</td>\n",
       "      <td>17,635.00</td>\n",
       "    </tr>\n",
       "    <tr>\n",
       "      <th>qty</th>\n",
       "      <td>1,000.00</td>\n",
       "      <td>21.11</td>\n",
       "      <td>14.41</td>\n",
       "      <td>3.00</td>\n",
       "      <td>11.00</td>\n",
       "      <td>16.00</td>\n",
       "      <td>23.00</td>\n",
       "      <td>58.00</td>\n",
       "    </tr>\n",
       "    <tr>\n",
       "      <th>orders</th>\n",
       "      <td>1,000.00</td>\n",
       "      <td>9.81</td>\n",
       "      <td>6.38</td>\n",
       "      <td>3.00</td>\n",
       "      <td>5.00</td>\n",
       "      <td>8.00</td>\n",
       "      <td>10.00</td>\n",
       "      <td>24.00</td>\n",
       "    </tr>\n",
       "    <tr>\n",
       "      <th>unique_products_bought</th>\n",
       "      <td>1,000.00</td>\n",
       "      <td>7.55</td>\n",
       "      <td>3.85</td>\n",
       "      <td>2.00</td>\n",
       "      <td>5.00</td>\n",
       "      <td>6.00</td>\n",
       "      <td>9.00</td>\n",
       "      <td>18.00</td>\n",
       "    </tr>\n",
       "    <tr>\n",
       "      <th>unique_payments_used</th>\n",
       "      <td>1,000.00</td>\n",
       "      <td>3.00</td>\n",
       "      <td>0.95</td>\n",
       "      <td>1.00</td>\n",
       "      <td>2.00</td>\n",
       "      <td>3.00</td>\n",
       "      <td>4.00</td>\n",
       "      <td>5.00</td>\n",
       "    </tr>\n",
       "    <tr>\n",
       "      <th>unique_categories_bought</th>\n",
       "      <td>1,000.00</td>\n",
       "      <td>3.84</td>\n",
       "      <td>1.01</td>\n",
       "      <td>1.00</td>\n",
       "      <td>3.00</td>\n",
       "      <td>4.00</td>\n",
       "      <td>5.00</td>\n",
       "      <td>5.00</td>\n",
       "    </tr>\n",
       "    <tr>\n",
       "      <th>aov</th>\n",
       "      <td>1,000.00</td>\n",
       "      <td>575.34</td>\n",
       "      <td>165.74</td>\n",
       "      <td>110.00</td>\n",
       "      <td>467.50</td>\n",
       "      <td>568.00</td>\n",
       "      <td>669.76</td>\n",
       "      <td>1,202.50</td>\n",
       "    </tr>\n",
       "    <tr>\n",
       "      <th>aur</th>\n",
       "      <td>1,000.00</td>\n",
       "      <td>271.15</td>\n",
       "      <td>65.94</td>\n",
       "      <td>60.00</td>\n",
       "      <td>227.50</td>\n",
       "      <td>267.89</td>\n",
       "      <td>311.22</td>\n",
       "      <td>485.00</td>\n",
       "    </tr>\n",
       "    <tr>\n",
       "      <th>upt</th>\n",
       "      <td>1,000.00</td>\n",
       "      <td>2.12</td>\n",
       "      <td>0.34</td>\n",
       "      <td>1.00</td>\n",
       "      <td>1.90</td>\n",
       "      <td>2.14</td>\n",
       "      <td>2.33</td>\n",
       "      <td>3.67</td>\n",
       "    </tr>\n",
       "    <tr>\n",
       "      <th>A_cat_sales</th>\n",
       "      <td>911.00</td>\n",
       "      <td>0.47</td>\n",
       "      <td>0.20</td>\n",
       "      <td>0.04</td>\n",
       "      <td>0.32</td>\n",
       "      <td>0.46</td>\n",
       "      <td>0.60</td>\n",
       "      <td>1.00</td>\n",
       "    </tr>\n",
       "    <tr>\n",
       "      <th>A_cat_units</th>\n",
       "      <td>911.00</td>\n",
       "      <td>0.35</td>\n",
       "      <td>0.17</td>\n",
       "      <td>0.04</td>\n",
       "      <td>0.23</td>\n",
       "      <td>0.33</td>\n",
       "      <td>0.45</td>\n",
       "      <td>1.00</td>\n",
       "    </tr>\n",
       "    <tr>\n",
       "      <th>B_cat_sales</th>\n",
       "      <td>754.00</td>\n",
       "      <td>0.13</td>\n",
       "      <td>0.11</td>\n",
       "      <td>0.01</td>\n",
       "      <td>0.06</td>\n",
       "      <td>0.10</td>\n",
       "      <td>0.17</td>\n",
       "      <td>1.00</td>\n",
       "    </tr>\n",
       "    <tr>\n",
       "      <th>B_cat_units</th>\n",
       "      <td>754.00</td>\n",
       "      <td>0.24</td>\n",
       "      <td>0.13</td>\n",
       "      <td>0.02</td>\n",
       "      <td>0.14</td>\n",
       "      <td>0.22</td>\n",
       "      <td>0.31</td>\n",
       "      <td>1.00</td>\n",
       "    </tr>\n",
       "    <tr>\n",
       "      <th>C_cat_sales</th>\n",
       "      <td>829.00</td>\n",
       "      <td>0.28</td>\n",
       "      <td>0.17</td>\n",
       "      <td>0.02</td>\n",
       "      <td>0.15</td>\n",
       "      <td>0.24</td>\n",
       "      <td>0.35</td>\n",
       "      <td>0.95</td>\n",
       "    </tr>\n",
       "    <tr>\n",
       "      <th>C_cat_units</th>\n",
       "      <td>829.00</td>\n",
       "      <td>0.27</td>\n",
       "      <td>0.15</td>\n",
       "      <td>0.02</td>\n",
       "      <td>0.17</td>\n",
       "      <td>0.25</td>\n",
       "      <td>0.33</td>\n",
       "      <td>0.86</td>\n",
       "    </tr>\n",
       "    <tr>\n",
       "      <th>D_cat_sales</th>\n",
       "      <td>678.00</td>\n",
       "      <td>0.32</td>\n",
       "      <td>0.17</td>\n",
       "      <td>0.03</td>\n",
       "      <td>0.18</td>\n",
       "      <td>0.28</td>\n",
       "      <td>0.42</td>\n",
       "      <td>0.94</td>\n",
       "    </tr>\n",
       "    <tr>\n",
       "      <th>D_cat_units</th>\n",
       "      <td>678.00</td>\n",
       "      <td>0.20</td>\n",
       "      <td>0.13</td>\n",
       "      <td>0.02</td>\n",
       "      <td>0.11</td>\n",
       "      <td>0.17</td>\n",
       "      <td>0.27</td>\n",
       "      <td>0.73</td>\n",
       "    </tr>\n",
       "    <tr>\n",
       "      <th>E_cat_sales</th>\n",
       "      <td>671.00</td>\n",
       "      <td>0.05</td>\n",
       "      <td>0.06</td>\n",
       "      <td>0.00</td>\n",
       "      <td>0.02</td>\n",
       "      <td>0.04</td>\n",
       "      <td>0.06</td>\n",
       "      <td>0.81</td>\n",
       "    </tr>\n",
       "    <tr>\n",
       "      <th>E_cat_units</th>\n",
       "      <td>671.00</td>\n",
       "      <td>0.20</td>\n",
       "      <td>0.13</td>\n",
       "      <td>0.02</td>\n",
       "      <td>0.11</td>\n",
       "      <td>0.17</td>\n",
       "      <td>0.26</td>\n",
       "      <td>0.89</td>\n",
       "    </tr>\n",
       "    <tr>\n",
       "      <th>pay_cash</th>\n",
       "      <td>263.00</td>\n",
       "      <td>0.13</td>\n",
       "      <td>0.13</td>\n",
       "      <td>0.00</td>\n",
       "      <td>0.04</td>\n",
       "      <td>0.10</td>\n",
       "      <td>0.17</td>\n",
       "      <td>0.95</td>\n",
       "    </tr>\n",
       "    <tr>\n",
       "      <th>pay_credit_card</th>\n",
       "      <td>981.00</td>\n",
       "      <td>0.55</td>\n",
       "      <td>0.21</td>\n",
       "      <td>0.03</td>\n",
       "      <td>0.41</td>\n",
       "      <td>0.54</td>\n",
       "      <td>0.70</td>\n",
       "      <td>1.00</td>\n",
       "    </tr>\n",
       "    <tr>\n",
       "      <th>pay_debit_card</th>\n",
       "      <td>871.00</td>\n",
       "      <td>0.31</td>\n",
       "      <td>0.18</td>\n",
       "      <td>0.01</td>\n",
       "      <td>0.17</td>\n",
       "      <td>0.28</td>\n",
       "      <td>0.41</td>\n",
       "      <td>1.00</td>\n",
       "    </tr>\n",
       "    <tr>\n",
       "      <th>pay_gift_card</th>\n",
       "      <td>634.00</td>\n",
       "      <td>0.20</td>\n",
       "      <td>0.16</td>\n",
       "      <td>0.01</td>\n",
       "      <td>0.08</td>\n",
       "      <td>0.16</td>\n",
       "      <td>0.28</td>\n",
       "      <td>0.97</td>\n",
       "    </tr>\n",
       "    <tr>\n",
       "      <th>pay_others</th>\n",
       "      <td>256.00</td>\n",
       "      <td>0.11</td>\n",
       "      <td>0.10</td>\n",
       "      <td>0.00</td>\n",
       "      <td>0.04</td>\n",
       "      <td>0.08</td>\n",
       "      <td>0.14</td>\n",
       "      <td>0.61</td>\n",
       "    </tr>\n",
       "    <tr>\n",
       "      <th>email_subscribed</th>\n",
       "      <td>1,000.00</td>\n",
       "      <td>0.62</td>\n",
       "      <td>0.48</td>\n",
       "      <td>0.00</td>\n",
       "      <td>0.00</td>\n",
       "      <td>1.00</td>\n",
       "      <td>1.00</td>\n",
       "      <td>1.00</td>\n",
       "    </tr>\n",
       "    <tr>\n",
       "      <th>omni_shopper</th>\n",
       "      <td>1,000.00</td>\n",
       "      <td>0.25</td>\n",
       "      <td>0.43</td>\n",
       "      <td>0.00</td>\n",
       "      <td>0.00</td>\n",
       "      <td>0.00</td>\n",
       "      <td>0.00</td>\n",
       "      <td>1.00</td>\n",
       "    </tr>\n",
       "  </tbody>\n",
       "</table>\n",
       "</div>"
      ],
      "text/plain": [
       "summary                     count     mean   stddev    min      25%      50%  \\\n",
       "customer_id              1,000.00   500.50   288.82   1.00   250.00   500.00   \n",
       "sales                    1,000.00 5,707.17 4,036.08 330.00 2,805.00 4,280.00   \n",
       "qty                      1,000.00    21.11    14.41   3.00    11.00    16.00   \n",
       "orders                   1,000.00     9.81     6.38   3.00     5.00     8.00   \n",
       "unique_products_bought   1,000.00     7.55     3.85   2.00     5.00     6.00   \n",
       "unique_payments_used     1,000.00     3.00     0.95   1.00     2.00     3.00   \n",
       "unique_categories_bought 1,000.00     3.84     1.01   1.00     3.00     4.00   \n",
       "aov                      1,000.00   575.34   165.74 110.00   467.50   568.00   \n",
       "aur                      1,000.00   271.15    65.94  60.00   227.50   267.89   \n",
       "upt                      1,000.00     2.12     0.34   1.00     1.90     2.14   \n",
       "A_cat_sales                911.00     0.47     0.20   0.04     0.32     0.46   \n",
       "A_cat_units                911.00     0.35     0.17   0.04     0.23     0.33   \n",
       "B_cat_sales                754.00     0.13     0.11   0.01     0.06     0.10   \n",
       "B_cat_units                754.00     0.24     0.13   0.02     0.14     0.22   \n",
       "C_cat_sales                829.00     0.28     0.17   0.02     0.15     0.24   \n",
       "C_cat_units                829.00     0.27     0.15   0.02     0.17     0.25   \n",
       "D_cat_sales                678.00     0.32     0.17   0.03     0.18     0.28   \n",
       "D_cat_units                678.00     0.20     0.13   0.02     0.11     0.17   \n",
       "E_cat_sales                671.00     0.05     0.06   0.00     0.02     0.04   \n",
       "E_cat_units                671.00     0.20     0.13   0.02     0.11     0.17   \n",
       "pay_cash                   263.00     0.13     0.13   0.00     0.04     0.10   \n",
       "pay_credit_card            981.00     0.55     0.21   0.03     0.41     0.54   \n",
       "pay_debit_card             871.00     0.31     0.18   0.01     0.17     0.28   \n",
       "pay_gift_card              634.00     0.20     0.16   0.01     0.08     0.16   \n",
       "pay_others                 256.00     0.11     0.10   0.00     0.04     0.08   \n",
       "email_subscribed         1,000.00     0.62     0.48   0.00     0.00     1.00   \n",
       "omni_shopper             1,000.00     0.25     0.43   0.00     0.00     0.00   \n",
       "\n",
       "summary                       75%       max  \n",
       "customer_id                750.00  1,000.00  \n",
       "sales                    7,260.00 17,635.00  \n",
       "qty                         23.00     58.00  \n",
       "orders                      10.00     24.00  \n",
       "unique_products_bought       9.00     18.00  \n",
       "unique_payments_used         4.00      5.00  \n",
       "unique_categories_bought     5.00      5.00  \n",
       "aov                        669.76  1,202.50  \n",
       "aur                        311.22    485.00  \n",
       "upt                          2.33      3.67  \n",
       "A_cat_sales                  0.60      1.00  \n",
       "A_cat_units                  0.45      1.00  \n",
       "B_cat_sales                  0.17      1.00  \n",
       "B_cat_units                  0.31      1.00  \n",
       "C_cat_sales                  0.35      0.95  \n",
       "C_cat_units                  0.33      0.86  \n",
       "D_cat_sales                  0.42      0.94  \n",
       "D_cat_units                  0.27      0.73  \n",
       "E_cat_sales                  0.06      0.81  \n",
       "E_cat_units                  0.26      0.89  \n",
       "pay_cash                     0.17      0.95  \n",
       "pay_credit_card              0.70      1.00  \n",
       "pay_debit_card               0.41      1.00  \n",
       "pay_gift_card                0.28      0.97  \n",
       "pay_others                   0.14      0.61  \n",
       "email_subscribed             1.00      1.00  \n",
       "omni_shopper                 0.00      1.00  "
      ]
     },
     "execution_count": 39,
     "metadata": {},
     "output_type": "execute_result"
    }
   ],
   "source": [
    "# converting summary o/p to pandas\n",
    "df_features.summary().toPandas().set_index('summary').T.astype('float')"
   ]
  },
  {
   "cell_type": "code",
   "execution_count": 40,
   "id": "6ea513c2",
   "metadata": {
    "scrolled": true
   },
   "outputs": [
    {
     "data": {
      "text/html": [
       "<div>\n",
       "<style scoped>\n",
       "    .dataframe tbody tr th:only-of-type {\n",
       "        vertical-align: middle;\n",
       "    }\n",
       "\n",
       "    .dataframe tbody tr th {\n",
       "        vertical-align: top;\n",
       "    }\n",
       "\n",
       "    .dataframe thead th {\n",
       "        text-align: right;\n",
       "    }\n",
       "</style>\n",
       "<table border=\"1\" class=\"dataframe\">\n",
       "  <thead>\n",
       "    <tr style=\"text-align: right;\">\n",
       "      <th></th>\n",
       "      <th>0</th>\n",
       "    </tr>\n",
       "  </thead>\n",
       "  <tbody>\n",
       "    <tr>\n",
       "      <th>pay_others</th>\n",
       "      <td>744</td>\n",
       "    </tr>\n",
       "    <tr>\n",
       "      <th>pay_cash</th>\n",
       "      <td>737</td>\n",
       "    </tr>\n",
       "    <tr>\n",
       "      <th>pay_gift_card</th>\n",
       "      <td>366</td>\n",
       "    </tr>\n",
       "    <tr>\n",
       "      <th>E_cat_units</th>\n",
       "      <td>329</td>\n",
       "    </tr>\n",
       "    <tr>\n",
       "      <th>E_cat_sales</th>\n",
       "      <td>329</td>\n",
       "    </tr>\n",
       "    <tr>\n",
       "      <th>D_cat_sales</th>\n",
       "      <td>322</td>\n",
       "    </tr>\n",
       "    <tr>\n",
       "      <th>D_cat_units</th>\n",
       "      <td>322</td>\n",
       "    </tr>\n",
       "    <tr>\n",
       "      <th>B_cat_units</th>\n",
       "      <td>246</td>\n",
       "    </tr>\n",
       "    <tr>\n",
       "      <th>B_cat_sales</th>\n",
       "      <td>246</td>\n",
       "    </tr>\n",
       "    <tr>\n",
       "      <th>C_cat_sales</th>\n",
       "      <td>171</td>\n",
       "    </tr>\n",
       "    <tr>\n",
       "      <th>C_cat_units</th>\n",
       "      <td>171</td>\n",
       "    </tr>\n",
       "    <tr>\n",
       "      <th>pay_debit_card</th>\n",
       "      <td>129</td>\n",
       "    </tr>\n",
       "    <tr>\n",
       "      <th>A_cat_sales</th>\n",
       "      <td>89</td>\n",
       "    </tr>\n",
       "    <tr>\n",
       "      <th>A_cat_units</th>\n",
       "      <td>89</td>\n",
       "    </tr>\n",
       "    <tr>\n",
       "      <th>pay_credit_card</th>\n",
       "      <td>19</td>\n",
       "    </tr>\n",
       "    <tr>\n",
       "      <th>email_subscribed</th>\n",
       "      <td>0</td>\n",
       "    </tr>\n",
       "    <tr>\n",
       "      <th>customer_id</th>\n",
       "      <td>0</td>\n",
       "    </tr>\n",
       "    <tr>\n",
       "      <th>sales</th>\n",
       "      <td>0</td>\n",
       "    </tr>\n",
       "    <tr>\n",
       "      <th>upt</th>\n",
       "      <td>0</td>\n",
       "    </tr>\n",
       "    <tr>\n",
       "      <th>aur</th>\n",
       "      <td>0</td>\n",
       "    </tr>\n",
       "    <tr>\n",
       "      <th>aov</th>\n",
       "      <td>0</td>\n",
       "    </tr>\n",
       "    <tr>\n",
       "      <th>unique_categories_bought</th>\n",
       "      <td>0</td>\n",
       "    </tr>\n",
       "    <tr>\n",
       "      <th>unique_payments_used</th>\n",
       "      <td>0</td>\n",
       "    </tr>\n",
       "    <tr>\n",
       "      <th>unique_products_bought</th>\n",
       "      <td>0</td>\n",
       "    </tr>\n",
       "    <tr>\n",
       "      <th>orders</th>\n",
       "      <td>0</td>\n",
       "    </tr>\n",
       "    <tr>\n",
       "      <th>qty</th>\n",
       "      <td>0</td>\n",
       "    </tr>\n",
       "    <tr>\n",
       "      <th>omni_shopper</th>\n",
       "      <td>0</td>\n",
       "    </tr>\n",
       "  </tbody>\n",
       "</table>\n",
       "</div>"
      ],
      "text/plain": [
       "                            0\n",
       "pay_others                744\n",
       "pay_cash                  737\n",
       "pay_gift_card             366\n",
       "E_cat_units               329\n",
       "E_cat_sales               329\n",
       "D_cat_sales               322\n",
       "D_cat_units               322\n",
       "B_cat_units               246\n",
       "B_cat_sales               246\n",
       "C_cat_sales               171\n",
       "C_cat_units               171\n",
       "pay_debit_card            129\n",
       "A_cat_sales                89\n",
       "A_cat_units                89\n",
       "pay_credit_card            19\n",
       "email_subscribed            0\n",
       "customer_id                 0\n",
       "sales                       0\n",
       "upt                         0\n",
       "aur                         0\n",
       "aov                         0\n",
       "unique_categories_bought    0\n",
       "unique_payments_used        0\n",
       "unique_products_bought      0\n",
       "orders                      0\n",
       "qty                         0\n",
       "omni_shopper                0"
      ]
     },
     "execution_count": 40,
     "metadata": {},
     "output_type": "execute_result"
    }
   ],
   "source": [
    "show_null_count(df_features)"
   ]
  },
  {
   "cell_type": "code",
   "execution_count": 41,
   "id": "0ccfc5a3",
   "metadata": {},
   "outputs": [],
   "source": [
    "# all the features we have can be filled with 0\n",
    "df_features = df_features.fillna(0)"
   ]
  },
  {
   "cell_type": "markdown",
   "id": "c462c050",
   "metadata": {},
   "source": [
    "## Vector assembly\n",
    "Spark algos require features in the Vector form"
   ]
  },
  {
   "cell_type": "code",
   "execution_count": 42,
   "id": "32ae6d88",
   "metadata": {},
   "outputs": [],
   "source": [
    "from pyspark.ml.feature import VectorAssembler"
   ]
  },
  {
   "cell_type": "code",
   "execution_count": 43,
   "id": "5de98850",
   "metadata": {},
   "outputs": [],
   "source": [
    "# we will ignore customer_id col\n",
    "df_cols = df_features.drop('customer_id').columns"
   ]
  },
  {
   "cell_type": "code",
   "execution_count": 44,
   "id": "afbe2ae9",
   "metadata": {},
   "outputs": [],
   "source": [
    "vec_assembler = VectorAssembler(inputCols = df_cols, outputCol='features')\n",
    "df = vec_assembler.transform(df_features)"
   ]
  },
  {
   "cell_type": "code",
   "execution_count": 45,
   "id": "f0f13a84",
   "metadata": {},
   "outputs": [],
   "source": [
    "# save assembler\n",
    "vec_assembler.write().overwrite().save('./files/model_objects/vec_assemblor/')"
   ]
  },
  {
   "cell_type": "code",
   "execution_count": 46,
   "id": "2b845eb5",
   "metadata": {},
   "outputs": [],
   "source": [
    "# keep only req. cols for model\n",
    "df = df.select('customer_id','features')"
   ]
  },
  {
   "cell_type": "markdown",
   "id": "2b37e59f",
   "metadata": {},
   "source": [
    "## Feature scaling\n",
    "\n",
    "- We will use MinMaxScaler"
   ]
  },
  {
   "cell_type": "code",
   "execution_count": 47,
   "id": "26064b75",
   "metadata": {},
   "outputs": [],
   "source": [
    "from pyspark.ml.feature import MinMaxScaler"
   ]
  },
  {
   "cell_type": "code",
   "execution_count": 48,
   "id": "04a33cbd",
   "metadata": {},
   "outputs": [],
   "source": [
    "scaler = MinMaxScaler(inputCol=\"features\", outputCol=\"scaledFeatures\")"
   ]
  },
  {
   "cell_type": "code",
   "execution_count": 49,
   "id": "0894e358",
   "metadata": {},
   "outputs": [],
   "source": [
    "scalerModel = scaler.fit(df)\n",
    "df = scalerModel.transform(df)"
   ]
  },
  {
   "cell_type": "code",
   "execution_count": 50,
   "id": "f0caaada",
   "metadata": {},
   "outputs": [
    {
     "name": "stdout",
     "output_type": "stream",
     "text": [
      "+-----------+--------------------+--------------------+\n",
      "|customer_id|            features|      scaledFeatures|\n",
      "+-----------+--------------------+--------------------+\n",
      "|        737|[14540.0,49.0,21....|[0.82114995665992...|\n",
      "|         31|[3870.0,15.0,7.0,...|[0.20456515457960...|\n",
      "|         85|[2940.0,19.0,8.0,...|[0.15082346142733...|\n",
      "|        898|[5270.0,15.0,8.0,...|[0.28546662814215...|\n",
      "|        322|[12875.0,49.0,23....|[0.72493498988731...|\n",
      "+-----------+--------------------+--------------------+\n",
      "only showing top 5 rows\n",
      "\n"
     ]
    }
   ],
   "source": [
    "df.show(5)"
   ]
  },
  {
   "cell_type": "code",
   "execution_count": 51,
   "id": "2df69420",
   "metadata": {},
   "outputs": [],
   "source": [
    "# Save the scaler object for scoring\n",
    "scalerModel.write().overwrite().save('./files/model_objects/scaler/')"
   ]
  },
  {
   "cell_type": "markdown",
   "id": "4ac17b8f",
   "metadata": {},
   "source": [
    "## Determining optimum k\n",
    "We will use elbow curve to determine optimum value of k for k-means clustering. The curve will be plotted for inertia score.\n",
    "\n",
    "We will also determine & plot silhouette score for all runs."
   ]
  },
  {
   "cell_type": "code",
   "execution_count": 52,
   "id": "295cb167",
   "metadata": {},
   "outputs": [],
   "source": [
    "from pyspark.ml.clustering import KMeans\n",
    "from pyspark.ml.evaluation import ClusteringEvaluator"
   ]
  },
  {
   "cell_type": "code",
   "execution_count": 54,
   "id": "0140cbbe",
   "metadata": {},
   "outputs": [],
   "source": [
    "#choosing k = 2 to 21\n",
    "k_values = []\n",
    "sse_values = []\n",
    "ss_score = []\n",
    "for k in range(2,21):\n",
    "    #initiate model instance\n",
    "    elbow_kmeans = KMeans(featuresCol='scaledFeatures',k=k)\n",
    "    #fitting the model\n",
    "    elbow_kmeans_model = elbow_kmeans.fit(df)\n",
    "    #Within Set Sum of Squared Errors\n",
    "    wssse = elbow_kmeans_model.summary.trainingCost\n",
    "    # sse score\n",
    "    evaluator = ClusteringEvaluator(featuresCol='scaledFeatures')\n",
    "    ss = evaluator.evaluate(elbow_kmeans_model.summary.predictions)\n",
    "    k_values.append(k)\n",
    "    sse_values.append(wssse)\n",
    "    ss_score.append(ss)"
   ]
  },
  {
   "cell_type": "code",
   "execution_count": 55,
   "id": "2f068730",
   "metadata": {},
   "outputs": [
    {
     "data": {
      "text/plain": [
       "<AxesSubplot:>"
      ]
     },
     "execution_count": 55,
     "metadata": {},
     "output_type": "execute_result"
    },
    {
     "data": {
      "image/png": "[encoded data removed]",
      "text/plain": [
       "<Figure size 1080x432 with 1 Axes>"
      ]
     },
     "metadata": {
      "needs_background": "light"
     },
     "output_type": "display_data"
    }
   ],
   "source": [
    "#plotting the curve\n",
    "plt.figure(figsize=(15,6))\n",
    "sns.lineplot(x=k_values,y=sse_values,marker='o')"
   ]
  },
  {
   "cell_type": "code",
   "execution_count": 56,
   "id": "0f732a58",
   "metadata": {},
   "outputs": [
    {
     "data": {
      "text/plain": [
       "<AxesSubplot:>"
      ]
     },
     "execution_count": 56,
     "metadata": {},
     "output_type": "execute_result"
    },
    {
     "data": {
      "image/png": "[encoded data removed]",
      "text/plain": [
       "<Figure size 1080x432 with 1 Axes>"
      ]
     },
     "metadata": {
      "needs_background": "light"
     },
     "output_type": "display_data"
    }
   ],
   "source": [
    "#plotting the curve\n",
    "plt.figure(figsize=(15,6))\n",
    "sns.lineplot(x=k_values,y=ss_score,marker='o')"
   ]
  },
  {
   "cell_type": "markdown",
   "id": "acd90f8c",
   "metadata": {},
   "source": [
    "<b>Fixing k=4</b>"
   ]
  },
  {
   "cell_type": "markdown",
   "id": "c1cc2c94",
   "metadata": {},
   "source": [
    "## Final clustering iteration"
   ]
  },
  {
   "cell_type": "code",
   "execution_count": 57,
   "id": "59188a72",
   "metadata": {},
   "outputs": [],
   "source": [
    "k=4"
   ]
  },
  {
   "cell_type": "code",
   "execution_count": 59,
   "id": "d68a5f99",
   "metadata": {},
   "outputs": [
    {
     "name": "stdout",
     "output_type": "stream",
     "text": [
      "s score 0.40972162431781534\n",
      "inertia 743.4558688790693\n"
     ]
    }
   ],
   "source": [
    "kmeans = KMeans(featuresCol='scaledFeatures',k=k)\n",
    "\n",
    "#fitting the model\n",
    "kmeans_model = kmeans.fit(df)\n",
    "\n",
    "#Within Set Sum of Squared Errors\n",
    "wssse = kmeans_model.summary.trainingCost\n",
    "\n",
    "# sse score\n",
    "evaluator = ClusteringEvaluator(featuresCol='scaledFeatures')\n",
    "ss = evaluator.evaluate(kmeans_model.summary.predictions)\n",
    "\n",
    "\n",
    "print('s score',ss)\n",
    "print('inertia',wssse)"
   ]
  },
  {
   "cell_type": "code",
   "execution_count": 60,
   "id": "a83a579d",
   "metadata": {},
   "outputs": [],
   "source": [
    "# save k-means\n",
    "kmeans_model.write().overwrite().save('./files/model_objects/kmeans/')"
   ]
  },
  {
   "cell_type": "markdown",
   "id": "df041cef",
   "metadata": {},
   "source": [
    "# 3. Profiling\n",
    "\n",
    "We will use `.groupby()` to get cluster level summaries for profiling the clusters."
   ]
  },
  {
   "cell_type": "markdown",
   "id": "190997ad",
   "metadata": {},
   "source": [
    "<b>Add cluster labels</b>"
   ]
  },
  {
   "cell_type": "code",
   "execution_count": 61,
   "id": "f9843272",
   "metadata": {},
   "outputs": [],
   "source": [
    "df = kmeans_model.transform(df).select('customer_id', 'prediction')\n",
    "df_features = df_features.join(df, on=['customer_id'],how='left')"
   ]
  },
  {
   "cell_type": "code",
   "execution_count": 62,
   "id": "f4b8163b",
   "metadata": {
    "scrolled": true
   },
   "outputs": [
    {
     "name": "stdout",
     "output_type": "stream",
     "text": [
      "root\n",
      " |-- customer_id: integer (nullable = true)\n",
      " |-- sales: long (nullable = true)\n",
      " |-- qty: long (nullable = true)\n",
      " |-- orders: long (nullable = true)\n",
      " |-- unique_products_bought: long (nullable = true)\n",
      " |-- unique_payments_used: long (nullable = true)\n",
      " |-- unique_categories_bought: long (nullable = true)\n",
      " |-- aov: double (nullable = false)\n",
      " |-- aur: double (nullable = false)\n",
      " |-- upt: double (nullable = false)\n",
      " |-- A_cat_sales: double (nullable = false)\n",
      " |-- A_cat_units: double (nullable = false)\n",
      " |-- B_cat_sales: double (nullable = false)\n",
      " |-- B_cat_units: double (nullable = false)\n",
      " |-- C_cat_sales: double (nullable = false)\n",
      " |-- C_cat_units: double (nullable = false)\n",
      " |-- D_cat_sales: double (nullable = false)\n",
      " |-- D_cat_units: double (nullable = false)\n",
      " |-- E_cat_sales: double (nullable = false)\n",
      " |-- E_cat_units: double (nullable = false)\n",
      " |-- pay_cash: double (nullable = false)\n",
      " |-- pay_credit_card: double (nullable = false)\n",
      " |-- pay_debit_card: double (nullable = false)\n",
      " |-- pay_gift_card: double (nullable = false)\n",
      " |-- pay_others: double (nullable = false)\n",
      " |-- email_subscribed: integer (nullable = true)\n",
      " |-- omni_shopper: integer (nullable = true)\n",
      " |-- prediction: integer (nullable = true)\n",
      "\n"
     ]
    }
   ],
   "source": [
    "df_features.printSchema()"
   ]
  },
  {
   "cell_type": "code",
   "execution_count": 63,
   "id": "fe879717",
   "metadata": {},
   "outputs": [
    {
     "name": "stdout",
     "output_type": "stream",
     "text": [
      "+----------+-----+\n",
      "|prediction|count|\n",
      "+----------+-----+\n",
      "|         0|  293|\n",
      "|         1|  284|\n",
      "|         2|  194|\n",
      "|         3|  229|\n",
      "+----------+-----+\n",
      "\n"
     ]
    }
   ],
   "source": [
    "df_features.groupBy('prediction').count().sort('prediction').show(k)"
   ]
  },
  {
   "cell_type": "markdown",
   "id": "b643a033",
   "metadata": {},
   "source": [
    "<b>Add *age* & *hh_income* from customer table to final features table</b>"
   ]
  },
  {
   "cell_type": "code",
   "execution_count": 64,
   "id": "1056ebb3",
   "metadata": {},
   "outputs": [],
   "source": [
    "df_features = df_features.join(\n",
    "    df_customer.select('customer_id','age','hh_income'),\n",
    "    on=['customer_id'],\n",
    "    how='left')"
   ]
  },
  {
   "cell_type": "code",
   "execution_count": 65,
   "id": "27d49870",
   "metadata": {},
   "outputs": [],
   "source": [
    "# columns to aggregate for profiling\n",
    "cols_to_avg = df_features.drop('customer_id','prediction').columns"
   ]
  },
  {
   "cell_type": "markdown",
   "id": "a30ad5eb",
   "metadata": {},
   "source": [
    "<b>Overall level summary</b>"
   ]
  },
  {
   "cell_type": "code",
   "execution_count": 66,
   "id": "dceac25c",
   "metadata": {},
   "outputs": [
    {
     "data": {
      "text/plain": [
       "1"
      ]
     },
     "execution_count": 66,
     "metadata": {},
     "output_type": "execute_result"
    }
   ],
   "source": [
    "df_summary_o = group_by_and_rename(\n",
    "    df_features,\n",
    "    [],\n",
    "    {'count':['customer_id'], 'avg':cols_to_avg})\n",
    "\n",
    "df_summary_o = df_summary_o.withColumn('prediction',F.lit('overall'))\n",
    "df_summary_o = df_summary_o.persist()\n",
    "df_summary_o.count()"
   ]
  },
  {
   "cell_type": "markdown",
   "id": "c83a3b81",
   "metadata": {},
   "source": [
    "<b>Cluster ID level summary</b>"
   ]
  },
  {
   "cell_type": "code",
   "execution_count": 67,
   "id": "12ee312e",
   "metadata": {},
   "outputs": [
    {
     "data": {
      "text/plain": [
       "4"
      ]
     },
     "execution_count": 67,
     "metadata": {},
     "output_type": "execute_result"
    }
   ],
   "source": [
    "df_summary_c = group_by_and_rename(\n",
    "    df_features,\n",
    "    ['prediction'],\n",
    "    {'count':['customer_id'], 'avg':cols_to_avg})\n",
    "\n",
    "df_summary_c = df_summary_c.sort('prediction').persist()\n",
    "df_summary_c.count()"
   ]
  },
  {
   "cell_type": "markdown",
   "id": "99f8a686",
   "metadata": {},
   "source": [
    "<b>Save profiling table as csv</b>\n",
    "\n",
    "We will then look at this table in excel to profile the clusters.\n",
    "- All clusters can be compared to one another and to the overall dataset across all features\n",
    "- Differences in features across clusters can be combined to describe each cluster\n",
    "- The data used above does not have any strong differentiating markers except email subscription and omni shopper flags\n",
    "- In real data you could have clusters such as *high value shoppers*, *low frequency shoppers*, or clusters showing affinity towards a single product category: *category B shoppers*, etc.\n",
    "\n",
    "<mark>Note</mark>: You could also go back and change the number of clusters in case the profiles aren't satisfactory. There are a few parameters as well that can be changed in the kMeans model."
   ]
  },
  {
   "cell_type": "code",
   "execution_count": 68,
   "id": "196ec77e",
   "metadata": {},
   "outputs": [],
   "source": [
    "col_list = df_summary_c.columns\n",
    "df_profile = df_summary_c.union(df_summary_o.select(col_list)).toPandas().T"
   ]
  },
  {
   "cell_type": "code",
   "execution_count": 69,
   "id": "33bc5b8a",
   "metadata": {},
   "outputs": [],
   "source": [
    "df_profile.to_csv('./files/kmeans_profiling.csv')"
   ]
  },
  {
   "cell_type": "markdown",
   "id": "5c12603f",
   "metadata": {},
   "source": [
    "# 4. Scoring\n",
    "Once we have a k-means model trained and the clusters profiled, we can setup a scoring process that will assign cluster labels to new data.<br> This can help in tagging customers to particular clusters using latest transactions data and tracking cluster growth/movement over time.\n",
    "\n",
    "This part of the process most likely will be done using a python script that is scheduled to run at a particular cadence instead of being done via Jupyter. You will have a code or codes that prepare the data in the required format and then a python script that uses the saved scaling and model objects to score the updated data."
   ]
  },
  {
   "cell_type": "code",
   "execution_count": 70,
   "id": "b298378c",
   "metadata": {},
   "outputs": [],
   "source": [
    "from pyspark.ml.clustering import KMeansModel\n",
    "from pyspark.ml.feature import VectorAssembler\n",
    "from pyspark.ml.feature import MinMaxScalerModel"
   ]
  },
  {
   "cell_type": "code",
   "execution_count": 71,
   "id": "3f2ef52b",
   "metadata": {},
   "outputs": [],
   "source": [
    "# Below process starts after the features dataset is created at customer id level\n",
    "# Please have required steps done prior to this step to have the features dataset ready\n",
    "\n",
    "# load features df\n",
    "df_features = spark.read.parquet('./data/clustering_features/')"
   ]
  },
  {
   "cell_type": "code",
   "execution_count": 72,
   "id": "8e8de22d",
   "metadata": {},
   "outputs": [],
   "source": [
    "# fill na\n",
    "df = df_features.fillna(0)\n",
    "\n",
    "# vector assembler\n",
    "vec_assembler = VectorAssembler.load('./files/model_objects/vec_assemblor/')\n",
    "df = vec_assembler.transform(df)\n",
    "df = df.select('customer_id','features')\n",
    "\n",
    "# scale\n",
    "scalerModel = MinMaxScalerModel.load('./files/model_objects/scaler/')\n",
    "df = scalerModel.transform(df)"
   ]
  },
  {
   "cell_type": "code",
   "execution_count": 73,
   "id": "a7f6fe25",
   "metadata": {},
   "outputs": [],
   "source": [
    "# k-means\n",
    "kmeans_model = KMeansModel.load('./files/model_objects/kmeans/')\n",
    "\n",
    "df = kmeans_model.transform(df).select('customer_id', 'prediction')\n",
    "\n",
    "# join back\n",
    "df_features = df_features.join(df, on=['customer_id'],how='left')\n",
    "\n",
    "# save labels\n",
    "df.write.parquet('./data/clustering_labels/', mode='overwrite')"
   ]
  },
  {
   "cell_type": "code",
   "execution_count": 74,
   "id": "f0efdfd4",
   "metadata": {},
   "outputs": [
    {
     "name": "stdout",
     "output_type": "stream",
     "text": [
      "+----------+-----+\n",
      "|prediction|count|\n",
      "+----------+-----+\n",
      "|         0|  293|\n",
      "|         1|  284|\n",
      "|         2|  194|\n",
      "|         3|  229|\n",
      "+----------+-----+\n",
      "\n"
     ]
    }
   ],
   "source": [
    "df_features.groupBy('prediction').count().sort('prediction').show(20)"
   ]
  },
  {
   "cell_type": "code",
   "execution_count": null,
   "id": "4342dcf6",
   "metadata": {},
   "outputs": [],
   "source": []
  }
 ],
 "metadata": {
  "kernelspec": {
   "display_name": "Python 3 (ipykernel)",
   "language": "python",
   "name": "python3"
  },
  "language_info": {
   "codemirror_mode": {
    "name": "ipython",
    "version": 3
   },
   "file_extension": ".py",
   "mimetype": "text/x-python",
   "name": "python",
   "nbconvert_exporter": "python",
   "pygments_lexer": "ipython3",
   "version": "3.8.11"
  }
 },
 "nbformat": 4,
 "nbformat_minor": 5
}
